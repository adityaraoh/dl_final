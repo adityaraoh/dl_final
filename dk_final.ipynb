{
 "cells": [
  {
   "cell_type": "code",
   "execution_count": 1,
   "id": "b446d4cc-0375-4f15-9921-2ac9ac4f3a8f",
   "metadata": {},
   "outputs": [
    {
     "name": "stderr",
     "output_type": "stream",
     "text": [
      "2022-05-01 17:10:02.069471: W tensorflow/stream_executor/platform/default/dso_loader.cc:64] Could not load dynamic library 'libcudart.so.11.0'; dlerror: libcudart.so.11.0: cannot open shared object file: No such file or directory\n",
      "2022-05-01 17:10:02.069523: I tensorflow/stream_executor/cuda/cudart_stub.cc:29] Ignore above cudart dlerror if you do not have a GPU set up on your machine.\n"
     ]
    }
   ],
   "source": [
    "import pandas as pd\n",
    "from tensorflow.keras.models import Model\n",
    "from tensorflow.keras import datasets, layers, models\n",
    "import tensorflow as tf\n",
    "import numpy as np\n",
    "from sklearn.preprocessing import StandardScaler, MinMaxScaler\n",
    "import matplotlib.pyplot as plt\n",
    "import sklearn\n",
    "from tensorflow.keras.models import Sequential"
   ]
  },
  {
   "cell_type": "code",
   "execution_count": 2,
   "id": "7328d6c5-877f-4ce3-b410-8da4a1baa19a",
   "metadata": {},
   "outputs": [],
   "source": [
    "train_data = pd.read_csv(\"train.csv\").fillna(0)\n",
    "train_data =train_data.sample(frac=1)"
   ]
  },
  {
   "cell_type": "code",
   "execution_count": 3,
   "id": "d77bbbdb-5f06-4b81-8487-08805743e6e0",
   "metadata": {},
   "outputs": [],
   "source": [
    "test_data = pd.read_csv(\"test.csv\").fillna(0)\n",
    "test_data =test_data.sample(frac=1)"
   ]
  },
  {
   "cell_type": "code",
   "execution_count": 4,
   "id": "8107e575-99c6-4b2e-ba3b-eafd442d0c17",
   "metadata": {},
   "outputs": [
    {
     "data": {
      "text/html": [
       "<div>\n",
       "<style scoped>\n",
       "    .dataframe tbody tr th:only-of-type {\n",
       "        vertical-align: middle;\n",
       "    }\n",
       "\n",
       "    .dataframe tbody tr th {\n",
       "        vertical-align: top;\n",
       "    }\n",
       "\n",
       "    .dataframe thead th {\n",
       "        text-align: right;\n",
       "    }\n",
       "</style>\n",
       "<table border=\"1\" class=\"dataframe\">\n",
       "  <thead>\n",
       "    <tr style=\"text-align: right;\">\n",
       "      <th></th>\n",
       "      <th>5 Minutes</th>\n",
       "      <th>Lane 1 Flow (Veh/5 Minutes)</th>\n",
       "      <th># Lane Points</th>\n",
       "      <th>% Observed</th>\n",
       "    </tr>\n",
       "  </thead>\n",
       "  <tbody>\n",
       "    <tr>\n",
       "      <th>4944</th>\n",
       "      <td>09/02/2016 4:00</td>\n",
       "      <td>14</td>\n",
       "      <td>1</td>\n",
       "      <td>100</td>\n",
       "    </tr>\n",
       "    <tr>\n",
       "      <th>12</th>\n",
       "      <td>04/01/2016 1:00</td>\n",
       "      <td>8</td>\n",
       "      <td>1</td>\n",
       "      <td>100</td>\n",
       "    </tr>\n",
       "    <tr>\n",
       "      <th>5989</th>\n",
       "      <td>18/02/2016 19:05</td>\n",
       "      <td>79</td>\n",
       "      <td>1</td>\n",
       "      <td>100</td>\n",
       "    </tr>\n",
       "    <tr>\n",
       "      <th>3709</th>\n",
       "      <td>01/02/2016 21:05</td>\n",
       "      <td>42</td>\n",
       "      <td>1</td>\n",
       "      <td>100</td>\n",
       "    </tr>\n",
       "    <tr>\n",
       "      <th>3730</th>\n",
       "      <td>01/02/2016 22:50</td>\n",
       "      <td>16</td>\n",
       "      <td>1</td>\n",
       "      <td>100</td>\n",
       "    </tr>\n",
       "  </tbody>\n",
       "</table>\n",
       "</div>"
      ],
      "text/plain": [
       "             5 Minutes  Lane 1 Flow (Veh/5 Minutes)  # Lane Points  % Observed\n",
       "4944   09/02/2016 4:00                           14              1         100\n",
       "12     04/01/2016 1:00                            8              1         100\n",
       "5989  18/02/2016 19:05                           79              1         100\n",
       "3709  01/02/2016 21:05                           42              1         100\n",
       "3730  01/02/2016 22:50                           16              1         100"
      ]
     },
     "execution_count": 4,
     "metadata": {},
     "output_type": "execute_result"
    }
   ],
   "source": [
    "merged_data = pd.concat(\n",
    "    (train_data, test_data),\n",
    "    axis=0,\n",
    "    join=\"outer\")\n",
    "merged_data.head()"
   ]
  },
  {
   "cell_type": "code",
   "execution_count": 5,
   "id": "82796b6a-78b6-4ac5-a6f0-6e9727bcc50c",
   "metadata": {},
   "outputs": [],
   "source": [
    "train_data = merged_data.sample(frac=0.8,random_state=20)\n",
    "test_data = merged_data.drop(train_data.index)"
   ]
  },
  {
   "cell_type": "code",
   "execution_count": 6,
   "id": "335ca9b7-51ae-4600-aff8-f12192c854c1",
   "metadata": {},
   "outputs": [],
   "source": [
    "attribute = 'Lane 1 Flow (Veh/5 Minutes)'\n",
    "scaler = MinMaxScaler(feature_range=(0, 1)).fit(train_data[attribute].values.reshape(-1, 1))\n",
    "train_transform = scaler.transform(train_data[attribute].values.reshape(-1, 1)).reshape(1, -1)[0]\n",
    "test_transform = scaler.transform(test_data[attribute].values.reshape(-1, 1)).reshape(1, -1)[0]\n",
    "train, test = [], []\n",
    "delay = 256\n",
    "for i in range(delay, len(train_transform)):\n",
    "    train.append(train_transform[i - delay: i + 1])\n",
    "for i in range(delay, len(test_transform)):\n",
    "    test.append(test_transform[i - delay: i + 1])\n",
    "train = np.array(train)\n",
    "test = np.array(test)\n",
    "X_train = train[:, :-1]\n",
    "y_train = train[:, -1]\n",
    "X_test = test[:, :-1]\n",
    "y_test = test[:, -1]"
   ]
  },
  {
   "cell_type": "code",
   "execution_count": 7,
   "id": "4857c147-257c-4550-b5a6-173744c633f1",
   "metadata": {},
   "outputs": [],
   "source": [
    "X_train = X_train.reshape((X_train.shape[0], X_train.shape[1], -1))\n",
    "X_test = X_test.reshape((X_test.shape[0], X_test.shape[1], -1))"
   ]
  },
  {
   "cell_type": "code",
   "execution_count": 8,
   "id": "5e9eb7c6-16ee-42c1-8460-5a4128c6574b",
   "metadata": {},
   "outputs": [],
   "source": [
    "X_train = tf.transpose(X_train, [0, 2, 1])\n",
    "X_test = tf.transpose(X_test, [0, 2, 1])"
   ]
  },
  {
   "cell_type": "code",
   "execution_count": 9,
   "id": "851bf081-a82e-4bf0-9ffa-80c14e479ebe",
   "metadata": {},
   "outputs": [
    {
     "name": "stdout",
     "output_type": "stream",
     "text": [
      "Model: \"sequential\"\n",
      "_________________________________________________________________\n",
      " Layer (type)                Output Shape              Param #   \n",
      "=================================================================\n",
      " conv1d (Conv1D)             (None, 1, 256)            65792     \n",
      "                                                                 \n",
      " leaky_re_lu (LeakyReLU)     (None, 1, 256)            0         \n",
      "                                                                 \n",
      " conv1d_1 (Conv1D)           (None, 1, 64)             16448     \n",
      "                                                                 \n",
      " conv1d_2 (Conv1D)           (None, 1, 64)             4160      \n",
      "                                                                 \n",
      " conv1d_3 (Conv1D)           (None, 1, 64)             4160      \n",
      "                                                                 \n",
      " max_pooling1d (MaxPooling1D  (None, 1, 64)            0         \n",
      " )                                                               \n",
      "                                                                 \n",
      " conv1d_4 (Conv1D)           (None, 1, 64)             4160      \n",
      "                                                                 \n",
      " activation (Activation)     (None, 1, 64)             0         \n",
      "                                                                 \n",
      "=================================================================\n",
      "Total params: 94,720\n",
      "Trainable params: 94,720\n",
      "Non-trainable params: 0\n",
      "_________________________________________________________________\n"
     ]
    }
   ],
   "source": [
    "model = models.Sequential()\n",
    "model.add(layers.Conv1D(256, 1, activation='softmax', input_shape=(1, 256)))\n",
    "model.add(tf.keras.layers.LeakyReLU())\n",
    "model.add(layers.Conv1D(64, 1, activation='softmax',  input_shape=(256, 64)))\n",
    "model.add(layers.Conv1D(64, 1, activation='softmax',  input_shape=(128, 16)))\n",
    "model.add(layers.Conv1D(64, 1, activation='softmax',  input_shape=(64, 8)))\n",
    "model.add(layers.MaxPooling1D(1))\n",
    "model.add(layers.Conv1D(64, 1, activation='relu'))\n",
    "model.add(layers.Activation(\"relu\"))\n",
    "model.summary()"
   ]
  },
  {
   "cell_type": "code",
   "execution_count": 10,
   "id": "b612b433-a1cd-4427-a79d-007fd3dac91b",
   "metadata": {},
   "outputs": [],
   "source": [
    "model.compile(loss=\"mse\", optimizer=\"Adam\")"
   ]
  },
  {
   "cell_type": "code",
   "execution_count": 11,
   "id": "f93f0333-63c0-42ba-a46c-774dc6fe98c7",
   "metadata": {},
   "outputs": [
    {
     "name": "stdout",
     "output_type": "stream",
     "text": [
      "Epoch 1/10\n",
      "7536/7536 [==============================] - 11s 1ms/step - loss: 0.1032 - val_loss: 0.1001\n",
      "Epoch 2/10\n",
      "7536/7536 [==============================] - 11s 1ms/step - loss: 0.1010 - val_loss: 0.0976\n",
      "Epoch 3/10\n",
      "7536/7536 [==============================] - 11s 1ms/step - loss: 0.1000 - val_loss: 0.0926\n",
      "Epoch 4/10\n",
      "7536/7536 [==============================] - 11s 1ms/step - loss: 0.0952 - val_loss: 0.0923\n",
      "Epoch 5/10\n",
      "7536/7536 [==============================] - 11s 1ms/step - loss: 0.0952 - val_loss: 0.0923\n",
      "Epoch 6/10\n",
      "7536/7536 [==============================] - 11s 1ms/step - loss: 0.0952 - val_loss: 0.0924\n",
      "Epoch 7/10\n",
      "7536/7536 [==============================] - 11s 1ms/step - loss: 0.0952 - val_loss: 0.0925\n",
      "Epoch 8/10\n",
      "7536/7536 [==============================] - 11s 1ms/step - loss: 0.0952 - val_loss: 0.0925\n",
      "Epoch 9/10\n",
      "7536/7536 [==============================] - 11s 1ms/step - loss: 0.0952 - val_loss: 0.0924\n",
      "Epoch 10/10\n",
      "7536/7536 [==============================] - 11s 1ms/step - loss: 0.0952 - val_loss: 0.0926\n"
     ]
    }
   ],
   "source": [
    "history = model.fit(X_train, y_train, batch_size = 1, epochs=10, shuffle=True,verbose=1, validation_split = 0.2)"
   ]
  },
  {
   "cell_type": "code",
   "execution_count": 12,
   "id": "cdc30d95-ae0d-491d-80ae-c836068e467e",
   "metadata": {},
   "outputs": [
    {
     "name": "stderr",
     "output_type": "stream",
     "text": [
      "2022-05-01 17:11:52.014868: W tensorflow/python/util/util.cc:368] Sets are not currently considered sequences, but this may change in the future, so consider avoiding using them.\n"
     ]
    },
    {
     "name": "stdout",
     "output_type": "stream",
     "text": [
      "INFO:tensorflow:Assets written to: ram://2ae0c5e6-5a56-4ba9-9d12-3d8c48f4c227/assets\n"
     ]
    }
   ],
   "source": [
    "import pickle\n",
    "pickle.dump(model, open('model', 'wb'))"
   ]
  },
  {
   "cell_type": "code",
   "execution_count": 13,
   "id": "f8881fe3-f251-4892-9532-5a57f853d7c0",
   "metadata": {},
   "outputs": [],
   "source": [
    "loaded_model = pickle.load(open('model', 'rb'))"
   ]
  },
  {
   "cell_type": "code",
   "execution_count": 14,
   "id": "a5f5339d-55a0-47fc-81fe-737722bc8167",
   "metadata": {},
   "outputs": [],
   "source": [
    "y_pred = loaded_model.predict(X_test)"
   ]
  },
  {
   "cell_type": "code",
   "execution_count": 15,
   "id": "52418959-6939-4b9a-82d5-ccb7c5fc75ef",
   "metadata": {},
   "outputs": [
    {
     "data": {
      "image/png": "[encoded data removed]",
      "text/plain": [
       "<Figure size 432x288 with 1 Axes>"
      ]
     },
     "metadata": {
      "needs_background": "light"
     },
     "output_type": "display_data"
    }
   ],
   "source": [
    "loss = history.history['loss']\n",
    "val_loss = history.history['val_loss']\n",
    "epochs = range(1, len(loss) + 1)\n",
    "plt.plot(epochs, loss, color='red', label='Training loss')\n",
    "plt.plot(epochs, val_loss, color='green', label='Validation loss')\n",
    "plt.title('Training and validation loss')\n",
    "plt.xlabel('Epochs')\n",
    "plt.ylabel('Loss')\n",
    "plt.legend()\n",
    "plt.show()"
   ]
  },
  {
   "cell_type": "code",
   "execution_count": null,
   "id": "2b2a392e-49dd-4955-8f70-ed9e2367ff10",
   "metadata": {},
   "outputs": [],
   "source": []
  }
 ],
 "metadata": {
  "kernelspec": {
   "display_name": "Python 3 (ipykernel)",
   "language": "python",
   "name": "python3"
  },
  "language_info": {
   "codemirror_mode": {
    "name": "ipython",
    "version": 3
   },
   "file_extension": ".py",
   "mimetype": "text/x-python",
   "name": "python",
   "nbconvert_exporter": "python",
   "pygments_lexer": "ipython3",
   "version": "3.9.7"
  }
 },
 "nbformat": 4,
 "nbformat_minor": 5
}
